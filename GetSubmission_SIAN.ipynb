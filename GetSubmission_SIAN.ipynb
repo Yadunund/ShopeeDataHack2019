{
 "cells": [
  {
   "cell_type": "code",
   "execution_count": null,
   "metadata": {},
   "outputs": [],
   "source": [
    "import numpy as np\n",
    "import pandas as pd\n",
    "import matplotlib.pyplot as plt\n",
    "import seaborn as sns\n",
    "import nltk\n",
    "%matplotlib inline\n",
    "\n",
    "\n",
    "from sklearn.model_selection import train_test_split\n",
    "from sklearn.pipeline import Pipeline\n",
    "from sklearn.feature_extraction.text import CountVectorizer\n",
    "from sklearn.feature_extraction.text import TfidfTransformer\n",
    "from sklearn.naive_bayes import MultinomialNB\n",
    "from sklearn.ensemble import RandomForestClassifier\n",
    "import pickle\n",
    "from sklearn.metrics import confusion_matrix, classification_report\n",
    "from sklearn.externals import joblib\n"
   ]
  },
  {
   "cell_type": "code",
   "execution_count": null,
   "metadata": {},
   "outputs": [],
   "source": [
    "def impute(c,mode_df,i):\n",
    "    c2=[]\n",
    "    loc=-1\n",
    "    for j in range(len(c)):\n",
    "        if c[j] == -1:\n",
    "            c2.append(mode_df.iloc[0,i])\n",
    "            loc=j\n",
    "        else:\n",
    "            c2.append(c[j])\n",
    "    #print(\"Loc:\"+str(loc))        \n",
    "    if c2[0] == c2[1]:\n",
    "        c2[loc]=mode_df.iloc[1,i]\n",
    "    return c2\n",
    "\n",
    "\n",
    "def getsubmission(dataset,n_estimators=200):\n",
    "    #index order 0: fashion, 1: beauty, 2: mobile\n",
    "    paths_train=['fashion_data_info_train_competition.csv','beauty_data_info_train_competition.csv','mobile_data_info_train_competition.csv']\n",
    "    paths_val=['fashion_data_info_val_competition.csv','beauty_data_info_val_competition.csv','mobile_data_info_val_competition.csv']\n",
    "    paths_json=['fashion_profile_train.json','beauty_profile_train.json','mobile_profile_train.json']\n",
    "    path_train=''\n",
    "    path_val=''\n",
    "    path_json=''\n",
    "\n",
    "    if(dataset=='fashion'):\n",
    "        path_train=paths_train[0]\n",
    "        path_val=paths_val[0]\n",
    "        path_json=paths_json[0]\n",
    "    elif(dataset=='beauty'):\n",
    "        path_train=paths_train[1]\n",
    "        path_val=paths_val[1]\n",
    "        path_json=paths_json[1]\n",
    "    else:\n",
    "        path_train=paths_train[2]\n",
    "        path_val=paths_val[2]\n",
    "        path_json=paths_json[2]\n",
    "\n",
    "    print('Path_train:'+path_train)\n",
    "    print('Path_val:'+path_val)\n",
    "\n",
    "    df_train=pd.read_csv(path_train)\n",
    "    df_val=pd.read_csv(path_val)\n",
    "\n",
    "    cols=df_train.columns[3:]\n",
    "    X_test = df_val['title']\n",
    "    #X_test = [concat_words(string) for string in X_test]\n",
    "    #X_test = [re.sub(r'\\b\\w{1,2}\\b', '', string) for string in X_test] # new\n",
    "    #X_test = [text_process(string) for string in X_test]\n",
    "    df_pred=pd.DataFrame()\n",
    "    df_sub=pd.DataFrame()\n",
    "    df_pred['itemid']=df_val['itemid']\n",
    "\n",
    "    train_df = df_train\n",
    "    #pd.read_csv(\"fashion_data_info_train_competition_wimage2.csv\") # CHANGE TO YOUR OWN TRAINING SET\n",
    "    train_df = train_df.iloc[:,3:]\n",
    "    #train_df = train_df.drop('title_image', axis = 1)\n",
    "    train_df_colnames = list(train_df)\n",
    "\n",
    "    mode_df = train_df.apply(lambda x: pd.Series(x.value_counts().index[:3]))\n",
    "    # print(cols)\n",
    "    i = 0\n",
    "    for col in cols:\n",
    "        print(col)\n",
    "        model_name=dataset+'_'+'rf_'+'n_'+str(n_estimators)+col + '.sav'\n",
    "        loaded_model = joblib.load(open(model_name, 'rb'))\n",
    "        #pred=loaded_model.predict(X_test)\n",
    "        classes=loaded_model.classes_\n",
    "        pred_prob = loaded_model.predict_proba(X_test)\n",
    "        pred_prob_top = pred_prob.argsort()[:,-2:]\n",
    "        pred_prob_top[:,[0, 1]] = pred_prob_top[:,[1, 0]]\n",
    "\n",
    "        #print(np.unique(pred_prob_top))\n",
    "        #print(mode_df.iloc[1,i])\n",
    "        print(\"Before Mode Imputation\")\n",
    "        print(classes[pred_prob_top])\n",
    "        print(float(mode_df.iloc[1,i]))\n",
    "        print(classes[pred_prob_top] == -1.)\n",
    "        #classes[pred_prob_top][classes[pred_prob_top] == -1.] = mode_df.iloc[1,i] #KEY LINE FOR IMPUTE\n",
    "        classes[pred_prob_top] = [ impute(c,mode_df,i) for c in classes[pred_prob_top]]\n",
    "        print(\"After Mode Imputation\")\n",
    "        print(classes[pred_prob_top])\n",
    "\n",
    "        df_pred[col]=[\" \".join(map(str,map(int,i) ))  for i in classes[pred_prob_top]]\n",
    "\n",
    "        #creating submission data frame\n",
    "        itemid_attrib=[]\n",
    "        for itemid in df_pred['itemid']:\n",
    "            itemid_attrib.append(str(itemid)+'_'+col)\n",
    "        df_tmp=pd.DataFrame()\n",
    "        df_tmp['itemid_attrib']=itemid_attrib\n",
    "        df_tmp['attribute_values']=df_pred[col]\n",
    "\n",
    "        df_sub=pd.concat([df_sub,df_tmp])\n",
    "\n",
    "        df_pred.to_csv(dataset+'_val_pred.csv',index=False)\n",
    "        df_sub.to_csv(dataset+'_val_sub.csv',index=False)\n",
    "\n",
    "        i = i + 1\n",
    "\n",
    "    return df_pred, df_sub\n",
    "\n",
    "\n",
    "\n",
    "\n",
    "    \n"
   ]
  },
  {
   "cell_type": "code",
   "execution_count": null,
   "metadata": {
    "scrolled": true
   },
   "outputs": [],
   "source": [
    "getsubmission('beauty')"
   ]
  },
  {
   "cell_type": "code",
   "execution_count": null,
   "metadata": {
    "scrolled": true
   },
   "outputs": [],
   "source": [
    "getsubmission('mobile')"
   ]
  },
  {
   "cell_type": "code",
   "execution_count": null,
   "metadata": {
    "scrolled": true
   },
   "outputs": [],
   "source": [
    "getsubmission('fashion')"
   ]
  }
 ],
 "metadata": {
  "kernelspec": {
   "display_name": "Python 3",
   "language": "python",
   "name": "python3"
  },
  "language_info": {
   "codemirror_mode": {
    "name": "ipython",
    "version": 3
   },
   "file_extension": ".py",
   "mimetype": "text/x-python",
   "name": "python",
   "nbconvert_exporter": "python",
   "pygments_lexer": "ipython3",
   "version": "3.6.6"
  }
 },
 "nbformat": 4,
 "nbformat_minor": 2
}
