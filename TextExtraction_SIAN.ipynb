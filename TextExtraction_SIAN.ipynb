{
 "cells": [
  {
   "cell_type": "code",
   "execution_count": 1,
   "metadata": {},
   "outputs": [],
   "source": [
    "import numpy as np\n",
    "import pandas as pd\n",
    "import matplotlib.pyplot as plt\n",
    "import seaborn as sns\n",
    "import nltk\n",
    "from nltk.corpus import stopwords\n",
    "import string\n",
    "import matplotlib.patches as patches\n",
    "import pickle\n",
    "\n",
    "\n",
    "try:\n",
    "    from PIL import Image\n",
    "except ImportError:\n",
    "    import Image\n",
    "import pytesseract\n",
    "import argparse\n",
    "import os\n",
    "#if opencv is installed\n",
    "import cv2\n",
    "%matplotlib inline"
   ]
  },
  {
   "cell_type": "code",
   "execution_count": null,
   "metadata": {},
   "outputs": [],
   "source": [
    "#Read data into dataframe df\n",
    "df=pd.read_csv('beauty_data_info_train_competition.csv')\n",
    "df.fillna(-1,inplace=True)\n",
    "#add subfolder name to path directory\n",
    "pathadd='beautyimages/' # path to be appended to the image path in df['image_path']\n",
    "df['image_path']=pathadd+df['image_path']"
   ]
  },
  {
   "cell_type": "code",
   "execution_count": null,
   "metadata": {},
   "outputs": [],
   "source": [
    "def gettext(path):\n",
    "    text=''\n",
    "    try:\n",
    "        text=pytesseract.image_to_string(Image.open(path))\n",
    "        text=' '.join(text.split())\n",
    "    except:\n",
    "        text=''\n",
    "    print('___________')\n",
    "    print(text)\n",
    "    print('___________')\n",
    "    return text\n",
    "            \n",
    "def displayimage(filename):\n",
    "    im = np.array(Image.open(filename), dtype=np.uint8)\n",
    "    # Create figure and axes\n",
    "    fig,ax = plt.subplots(1,figsize=(8,6))\n",
    "    # Display the image\n",
    "    ax.imshow(im)\n"
   ]
  },
  {
   "cell_type": "markdown",
   "metadata": {},
   "source": [
    "# If Open CV is Installed"
   ]
  },
  {
   "cell_type": "code",
   "execution_count": null,
   "metadata": {},
   "outputs": [],
   "source": [
    "def gettext_cv(path,mode='ADAPTIVE_GAUSSIAN',c1=13,c2=12):\n",
    "    '''\n",
    "    Author:Yadunund Vijay\n",
    "    Docstring: Function to use OCR to read text from image with option of\n",
    "                applying thresholding on image based on user supplied 'mode' and constants 'c1','c2'.\n",
    "                modes: {'Normal': for no thresholding, 'ADAPTIVE_GAUSSIAN','ADAPTIVE_MEAN','BINARY','BINARY_OTSU'\n",
    "    '''\n",
    "    text=''\n",
    "    try:\n",
    "        if(mode=='NORMAL'):\n",
    "            text=pytesseract.image_to_string(Image.open(path))\n",
    "        else:\n",
    "            image = cv2.imread(path)\n",
    "            gray = cv2.cvtColor(image, cv2.COLOR_BGR2GRAY) \n",
    "            if (mode=='ADAPTIVE_GAUSSIAN'):\n",
    "                    gray=cv2.adaptiveThreshold(gray,255,cv2.ADAPTIVE_THRESH_GAUSSIAN_C, cv2.THRESH_BINARY, c1, c2)\n",
    "            if (mode=='ADAPTIVE_MEAN'):\n",
    "                    gray=cv2.adaptiveThreshold(gray,255,cv2.ADAPTIVE_THRESH_MEAN_C, cv2.THRESH_BINARY, c1, c2)\n",
    "            if(mode=='BINARY_OTSU'):\n",
    "                    gray = cv2.threshold(gray, 0, 255,cv2.THRESH_BINARY + cv2.THRESH_OTSU)[1]\n",
    "            if(mode=='BINARY'):\n",
    "                    gray = cv2.threshold(gray, 0, 255,cv2.THRESH_BINARY)[1]\n",
    "            \n",
    "        filename = \"{}.png\".format(os.getpid())\n",
    "        cv2.imwrite(filename, gray)\n",
    "        text = pytesseract.image_to_string(Image.open(filename))\n",
    "        text=' '.join(text.split())\n",
    "        os.remove(filename)\n",
    "        # Display the image\n",
    "        fig,ax = plt.subplots(ncols=1,figsize=(8,6))\n",
    "        ax.imshow(image)\n",
    "    except:\n",
    "        text=''\n",
    "    print('___________')\n",
    "    print(text)\n",
    "    print('___________')\n",
    "    return text"
   ]
  },
  {
   "cell_type": "markdown",
   "metadata": {},
   "source": [
    "# Calling function to add new column to dataframe containing text from images"
   ]
  },
  {
   "cell_type": "code",
   "execution_count": null,
   "metadata": {
    "scrolled": true
   },
   "outputs": [],
   "source": [
    "df['title_image']=df['image_path'].apply(gettext)\n",
    "df.to_csv('beauty_data_info_train_competition_imtext.csv',index=False)"
   ]
  },
  {
   "cell_type": "markdown",
   "metadata": {},
   "source": [
    "# TESTING SECTION\n",
    "Adjusting Image Thresholds with Open CV to Improve Detection"
   ]
  },
  {
   "cell_type": "code",
   "execution_count": null,
   "metadata": {},
   "outputs": [],
   "source": [
    "# load the example image and convert it to grayscale\n",
    "image = cv2.imread(path)\n",
    "gray = cv2.cvtColor(image, cv2.COLOR_BGR2GRAY)\n",
    " \n",
    "# check to see if we should apply thresholding to preprocess the\n",
    "# image\n",
    "#gray = cv2.GaussianBlur(gray,(1,1),0)\n",
    "#gray = cv2.threshold(gray, 0, 255,cv2.THRESH_BINARY + cv2.THRESH_OTSU)[1]\n",
    "#gray = cv2.threshold(gray, 0, 255,cv2.THRESH_BINARY)[1]\n",
    "gray=cv2.adaptiveThreshold(gray,255,cv2.ADAPTIVE_THRESH_GAUSSIAN_C, cv2.THRESH_BINARY, 21, 12)\n",
    "#gray=cv2.adaptiveThreshold(gray,255,cv2.ADAPTIVE_THRESH_MEAN_C, cv2.THRESH_BINARY, 11, 12)\n",
    "\n",
    "#gray = cv2.medianBlur(gray, 5)\n",
    " \n",
    "# write the grayscale image to disk as a temporary file so we can\n",
    "# apply OCR to it\n",
    "filename = \"{}.png\".format(os.getpid())\n",
    "cv2.imwrite(filename, gray)"
   ]
  },
  {
   "cell_type": "code",
   "execution_count": null,
   "metadata": {},
   "outputs": [],
   "source": [
    "text = pytesseract.image_to_string(Image.open(filename))\n",
    "#os.remove(filename)\n",
    "print(text)\n",
    "# Create figure and axes\n",
    "fig,ax = plt.subplots(ncols=2,figsize=(16,9))\n",
    "# Display the image\n",
    "ax[0].imshow(image)\n",
    "ax[1].imshow(gray)"
   ]
  },
  {
   "cell_type": "code",
   "execution_count": null,
   "metadata": {},
   "outputs": [],
   "source": []
  },
  {
   "cell_type": "code",
   "execution_count": null,
   "metadata": {},
   "outputs": [],
   "source": []
  },
  {
   "cell_type": "code",
   "execution_count": null,
   "metadata": {},
   "outputs": [],
   "source": []
  }
 ],
 "metadata": {
  "kernelspec": {
   "display_name": "Python 3",
   "language": "python",
   "name": "python3"
  },
  "language_info": {
   "codemirror_mode": {
    "name": "ipython",
    "version": 3
   },
   "file_extension": ".py",
   "mimetype": "text/x-python",
   "name": "python",
   "nbconvert_exporter": "python",
   "pygments_lexer": "ipython3",
   "version": "3.6.6"
  }
 },
 "nbformat": 4,
 "nbformat_minor": 2
}
