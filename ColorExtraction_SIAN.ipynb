{
 "cells": [
  {
   "cell_type": "code",
   "execution_count": null,
   "metadata": {},
   "outputs": [],
   "source": [
    "import numpy as np\n",
    "import pandas as pd\n",
    "import matplotlib.pyplot as plt\n",
    "import seaborn as sns\n",
    "import nltk\n",
    "import matplotlib.patches as patches\n",
    "import pickle\n",
    "\n",
    "try:\n",
    "    from PIL import Image\n",
    "except ImportError:\n",
    "    import Image\n",
    "import pytesseract\n",
    "import argparse\n",
    "import os\n",
    "import cv2\n",
    "\n",
    "from colorthief import ColorThief\n",
    "import webcolors\n",
    "\n",
    "%matplotlib inline"
   ]
  },
  {
   "cell_type": "code",
   "execution_count": null,
   "metadata": {},
   "outputs": [],
   "source": [
    "def displayimage(filename):\n",
    "    im = np.array(Image.open(filename), dtype=np.uint8)\n",
    "    # Create figure and axes\n",
    "    fig,ax = plt.subplots(1,figsize=(8,6))\n",
    "    # Display the image\n",
    "    ax.imshow(im)\n",
    "\n",
    "displayimage(\"/Users/benjaminlim/Desktop/NDSC/fashion_image/fe96f34c60644136fff3bfdccec20cf7.jpg\")"
   ]
  },
  {
   "cell_type": "code",
   "execution_count": null,
   "metadata": {},
   "outputs": [],
   "source": [
    "def get_dominant_colour(path):\n",
    "    try:\n",
    "        color_thief = ColorThief(path)\n",
    "        dominant_color = color_thief.get_color(quality=1)\n",
    "        # palette = color_thief.get_palette(color_count=2)\n",
    "    except:\n",
    "        dominant_color = ''\n",
    "    return dominant_color\n"
   ]
  },
  {
   "cell_type": "code",
   "execution_count": null,
   "metadata": {},
   "outputs": [],
   "source": [
    "get_dominant_colour(\"/Users/benjaminlim/Desktop/NDSC/fashion_image/fe96f34c60644136fff3bfdccec20cf7.jpg\")"
   ]
  },
  {
   "cell_type": "code",
   "execution_count": null,
   "metadata": {},
   "outputs": [],
   "source": [
    "def closest_colour(requested_colour):\n",
    "    min_colours = {}\n",
    "    for key, name in webcolors.css3_hex_to_names.items():\n",
    "        r_c, g_c, b_c = webcolors.hex_to_rgb(key)\n",
    "        rd = (r_c - requested_colour[0]) ** 2\n",
    "        gd = (g_c - requested_colour[1]) ** 2\n",
    "        bd = (b_c - requested_colour[2]) ** 2\n",
    "        min_colours[(rd + gd + bd)] = name\n",
    "    return min_colours[min(min_colours.keys())]\n",
    "\n",
    "def get_colour_name(path):\n",
    "    try:\n",
    "        requested_colour = get_dominant_colour(path)\n",
    "        closest_name = actual_name = webcolors.rgb_to_name(requested_colour)\n",
    "    except ValueError:\n",
    "        closest_name = closest_colour(requested_colour)\n",
    "        actual_name = \"\"\n",
    "    except TypeError:\n",
    "        actual_name = \"\"\n",
    "        closest_name = \"\"\n",
    "    print('___________')\n",
    "    print(\"Actual colour:\", actual_name, \", Closest colour:\", closest_name)\n",
    "    print('___________')\n",
    "    return actual_name, closest_name\n",
    "\n",
    "actual_name, closest_name = get_colour_name(\"/Users/benjaminlim/Desktop/NDSC/fashion_image/fe96f34c60644136fff3bfdccec20cf7.jpg\")"
   ]
  },
  {
   "cell_type": "code",
   "execution_count": null,
   "metadata": {},
   "outputs": [],
   "source": [
    "#Read data into dataframe df\n",
    "df=pd.read_csv('fashion_data_info_train_competition.csv')\n",
    "df.fillna(-1,inplace=True)\n",
    "#add subfolder name to path directory\n",
    "pathadd='/Users/benjaminlim/Desktop/NDSC/' # path to be appended to the image path in df['image_path']\n",
    "df['image_path']=pathadd+df['image_path']+\".jpg\""
   ]
  },
  {
   "cell_type": "code",
   "execution_count": null,
   "metadata": {},
   "outputs": [],
   "source": [
    "df['actual_colour'], df['closest_colour'] = df['image_path'].apply(get_colour_name)"
   ]
  },
  {
   "cell_type": "code",
   "execution_count": null,
   "metadata": {},
   "outputs": [],
   "source": []
  }
 ],
 "metadata": {
  "kernelspec": {
   "display_name": "Python 3",
   "language": "python",
   "name": "python3"
  },
  "language_info": {
   "codemirror_mode": {
    "name": "ipython",
    "version": 3
   },
   "file_extension": ".py",
   "mimetype": "text/x-python",
   "name": "python",
   "nbconvert_exporter": "python",
   "pygments_lexer": "ipython3",
   "version": "3.6.6"
  }
 },
 "nbformat": 4,
 "nbformat_minor": 2
}
