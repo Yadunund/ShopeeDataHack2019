{
 "cells": [
  {
   "cell_type": "markdown",
   "metadata": {},
   "source": [
    "## Import Packages"
   ]
  },
  {
   "cell_type": "code",
   "execution_count": 3,
   "metadata": {},
   "outputs": [
    {
     "name": "stderr",
     "output_type": "stream",
     "text": [
      "/Users/benjaminlim/anaconda/lib/python3.6/site-packages/sklearn/ensemble/weight_boosting.py:29: DeprecationWarning: numpy.core.umath_tests is an internal NumPy module and should not be imported. It will be removed in a future NumPy release.\n",
      "  from numpy.core.umath_tests import inner1d\n"
     ]
    }
   ],
   "source": [
    "import numpy as np\n",
    "import pandas as pd\n",
    "import matplotlib.pyplot as plt\n",
    "import seaborn as sns\n",
    "import nltk\n",
    "from sklearn.model_selection import train_test_split\n",
    "from sklearn.pipeline import Pipeline\n",
    "from sklearn.feature_extraction.text import CountVectorizer\n",
    "from sklearn.feature_extraction.text import TfidfTransformer\n",
    "from sklearn.naive_bayes import MultinomialNB\n",
    "from sklearn.ensemble import RandomForestClassifier\n",
    "from sklearn.metrics import confusion_matrix, classification_report\n",
    "import pickle\n",
    "from glove import Corpus, Glove\n",
    "\n",
    "%matplotlib inline"
   ]
  },
  {
   "cell_type": "markdown",
   "metadata": {},
   "source": [
    "## Multiclass Prediction: Random Forest (text)"
   ]
  },
  {
   "cell_type": "code",
   "execution_count": 4,
   "metadata": {
    "collapsed": true
   },
   "outputs": [],
   "source": [
    "import re\n",
    "def concat_words(string):\n",
    "\n",
    "    # Indonesian\n",
    "    \n",
    "    # Pattern\n",
    "    string = re.sub(\"paisley\", \"paisley\", string)\n",
    "    string = re.sub(\"kotak-kotak\", \"plaid\", string)\n",
    "    string = re.sub(\"threadwork\", \"threadwork\", string)\n",
    "    string = re.sub(\"tambal sulam\", \"patchwork\", string)\n",
    "    string = re.sub(\"polos\", \"plain\", string)\n",
    "    string = re.sub(\"grafik\", \"graphic\", string)\n",
    "    string = re.sub(\"cetak\", \"print\", string)\n",
    "    string = re.sub(\"kamuflase\", \"camouflage\", string)\n",
    "    string = re.sub(\"titik gelombang\", \"wave point\", string)\n",
    "    string = re.sub(\"simpul\", \"knot\", string)\n",
    "    string = re.sub(\"kartun\", \"cartoon\", string)\n",
    "    string = re.sub(\"surat\", \"letter\", string)\n",
    "    string = re.sub(\"periksa\", \"check\", string)\n",
    "    string = re.sub(\"sulaman\",\"embroidery\",  string)\n",
    "    \n",
    "    # Collar Type\n",
    "    string = re.sub(\"berkerudung\", \"hooded\", string)\n",
    "    string = re.sub(\"leher tinggi\", \"high neck\", string)\n",
    "    string = re.sub(\"selendang kerah\", \"shawl collar\", string)\n",
    "    string = re.sub(\"leher perahu\", \"boat neck\", string)\n",
    "    string = re.sub(\"tombol bawah\", \"button down\", string)\n",
    "    string = re.sub(\"leher kuadrat\", \"square neck\", string)\n",
    "    string = re.sub(\"vagina busur\", \"pussy bow\", string)\n",
    "    string = re.sub(\"kerah kemeja\", \"shirt collar\", string)\n",
    "    string = re.sub(\"berlekuk\", \"notched\", string)\n",
    "    \n",
    "    # Fashion Trend\n",
    "    string = re.sub(\"kantor\", \"office\", string)\n",
    "    string = re.sub(\"street style\", \"street style\", string)\n",
    "    string = re.sub(\"tropis\", \"tropical\", string)\n",
    "    string = re.sub(\"warisan preppy\", \"preppy heritage\", string)\n",
    "    string = re.sub(\"pesta\", \"party\", string)\n",
    "\n",
    "    # Clothing Material\n",
    "    string = re.sub(\"nilon\", \"nylon\", string)\n",
    "    string = re.sub(\"beludru\", \"velvet\", string)\n",
    "    string = re.sub(\"renda\", \"lace\", string)\n",
    "    string = re.sub(\"poliester\", \"polyester\", string)\n",
    "    string = re.sub(\"sutera\", \"silk\", string)\n",
    "    string = re.sub(\"kapas poli\", \"poly cotton\", string)\n",
    "    string = re.sub(\"wol\", \"wool\", string)\n",
    "    string = re.sub(\"kapas\", \"cotton\", string)\n",
    "\n",
    "    # Sleeves\n",
    "    string = re.sub(\"tanpa lengan\", \"sleeveless\", string)\n",
    "    string = re.sub(\"lengan 3 4\", \"sleeve 3 4\", string)\n",
    "    string = re.sub(\"lengan pendek\", \"short sleeve\", string)\n",
    "    string = re.sub(\"lengan panjang\", \"long sleeve\", string)\n",
    "\n",
    "\n",
    "    # General\n",
    "    string = re.sub(\"tank top\", \"tank_top\", string)\n",
    "    string = re.sub(\"t shirt\", \"t_shirt\", string)\n",
    "    string = re.sub(\"t-shirt\", \"t_shirt\", string)\n",
    "    string = re.sub(\"tshirt\", \"t_shirt\", string)\n",
    "    \n",
    "    # Collar Type\n",
    "    string = re.sub(\"polka dot\", \"polka_dot\", string)\n",
    "    string = re.sub(\"wave point\", \"wave_point\", string)    \n",
    "    string = re.sub(\"high neck\", \"high_neck\", string)\n",
    "    string = re.sub(\"shawl collar\", \"shawl_collar\", string)\n",
    "    string = re.sub(\"o neck\", \"o_neck\", string)    \n",
    "    string = re.sub(\"scoop neck\", \"scoop_neck\", string)\n",
    "    string = re.sub(\"boat neck\", \"boat_neck\", string)\n",
    "    string = re.sub(\"off the shoulder\", \"off_the_shoulder\", string)\n",
    "    string = re.sub(\"v neck\", \"v_neck\", string)\n",
    "    string = re.sub(\"button down\", \"button_down\", string)\n",
    "    string = re.sub(\"square neck\", \"square_neck\", string)\n",
    "    string = re.sub(\"pussy bow\", \"pussy_bow\", string)\n",
    "    string = re.sub(\"shirt collar\", \"shirt_collar\", string)\n",
    "    string = re.sub(\"peter pan\", \"peter_pan\", string)\n",
    "    \n",
    "    # Fashion Trend\n",
    "    string = re.sub(\"street style\", \"street_style\", string)\n",
    "    string = re.sub(\"retro vintage\", \"retro_vintage\", string)\n",
    "    string = re.sub(\"preppy heritage\", \"preppy_heritage\", string)\n",
    "\n",
    "    # Clothing Material\n",
    "    string = re.sub(\"poly cotton\", \"poly_cotton\", string)    \n",
    "    string = re.sub(\"v neck\", \"v_neck\", string)\n",
    "\n",
    "    # Sleeves\n",
    "    string = re.sub(\"sleeve 3 4\", \"sleeve_three_quarters\", string)\n",
    "    string = re.sub(\"\", \"v_neck\", string)\n",
    "    string = re.sub(\"v neck\", \"v_neck\", string)\n",
    "    string = re.sub(\"short sleeve\", \"short_sleeve\", string)\n",
    "    string = re.sub(\"long sleeve\", \"long_sleeve\", string)\n",
    "\n",
    "    return string"
   ]
  },
  {
   "cell_type": "code",
   "execution_count": null,
   "metadata": {
    "collapsed": true
   },
   "outputs": [],
   "source": [
    "def multiclass(filename):\n",
    "    # Save name of dataset (fashion, beauty or mobile)\n",
    "    df_name = filename[:filename.index(\"_\")]\n",
    "    df = pd.read_csv(filename)\n",
    "    df['title_image'].fillna(\" \", inplace = True)\n",
    "    df['title'] = df['title'] + \" \" + df['title_image'] # new\n",
    "    df.fillna(-1, inplace = True)\n",
    "    X = df['title']\n",
    "    X = [concat_words(string) for string in X]\n",
    "    X = [re.sub(r'\\b\\w{1,2}\\b', '', string) for string in X] # new\n",
    "    df_filt = df.iloc[:,3:]\n",
    "    accuracy = []\n",
    "    \n",
    "    # %cd \"/Users/benjaminlim/Dropbox (MIT)/Fashion_Model2\"\n",
    "    \n",
    "    for column in df_filt:\n",
    "        # Train-test split\n",
    "        y = df_filt[column]\n",
    "        X_train, X_test, y_train, y_test = train_test_split(X, y, test_size = 0.2, random_state = 42)\n",
    "        p = Pipeline([\n",
    "                ('bow',CountVectorizer(token_pattern = r'(?u)\\b[A-Za-z_]+\\b',\n",
    "                                      stop_words = 'english')), # new\n",
    "            ('tfidf',TfidfTransformer()),\n",
    "            ('classifier',RandomForestClassifier(class_weight=\"balanced\",\n",
    "                                                 n_estimators = 200, verbose = 2, n_jobs=-1))  # new\n",
    "        ])\n",
    "        \n",
    "        # Train prediction model for each feature\n",
    "        p.fit(X_train,y_train)\n",
    "        pred = p.predict(X_test)\n",
    "        \n",
    "        # p.fit(X,y)\n",
    "        conf_mat = confusion_matrix(y_test,pred)\n",
    "        a = np.sum(np.diagonal(conf_mat))/np.sum(conf_mat)\n",
    "        print(column)\n",
    "        print(\"Accuracy: \", a)\n",
    "        accuracy.append(a)\n",
    "    \n",
    "        # Save prediction models\n",
    "        filename = df_name + \"_\" + column + '.sav'\n",
    "        pickle.dump(p, open(filename, 'wb'))\n",
    "        \n",
    "    col = ['Attribute','Accuracy']\n",
    "    val = [df_filt.columns,accuracy] \n",
    "    dictionary = dict(zip(col, val))\n",
    "    \n",
    "    # Export accuracy table\n",
    "    accuracy_df = pd.DataFrame.from_dict(dictionary)\n",
    "    accuracy_df.to_csv(df_name + \"_\" + 'accuracy.csv')\n",
    "    \n",
    "    return"
   ]
  },
  {
   "cell_type": "code",
   "execution_count": null,
   "metadata": {},
   "outputs": [
    {
     "name": "stderr",
     "output_type": "stream",
     "text": [
      "/Users/benjaminlim/anaconda/lib/python3.6/site-packages/IPython/core/interactiveshell.py:2808: DtypeWarning: Columns (8) have mixed types. Specify dtype option on import or set low_memory=False.\n",
      "  if self.run_code(code, result):\n"
     ]
    },
    {
     "name": "stdout",
     "output_type": "stream",
     "text": [
      "building tree 1 of 200building tree 3 of 200building tree 2 of 200building tree 4 of 200\n",
      "\n",
      "\n",
      "\n",
      "building tree 5 of 200\n",
      "building tree 6 of 200\n",
      "building tree 7 of 200\n",
      "building tree 8 of 200\n",
      "building tree 9 of 200\n",
      "building tree 10 of 200\n",
      "building tree 11 of 200\n",
      "building tree 12 of 200\n",
      "building tree 13 of 200\n",
      "building tree 14 of 200\n",
      "building tree 15 of 200\n",
      "building tree 16 of 200\n",
      "building tree 17 of 200\n",
      "building tree 18 of 200\n",
      "building tree 19 of 200\n",
      "building tree 20 of 200\n",
      "building tree 21 of 200\n",
      "building tree 22 of 200\n",
      "building tree 23 of 200\n",
      "building tree 24 of 200\n",
      "building tree 25 of 200\n",
      "building tree 26 of 200\n",
      "building tree 27 of 200\n",
      "building tree 28 of 200\n",
      "building tree 29 of 200\n",
      "building tree 30 of 200\n",
      "building tree 31 of 200\n",
      "building tree 32 of 200\n",
      "building tree 33 of 200\n",
      "building tree 34 of 200\n",
      "building tree 35 of 200\n",
      "building tree 36 of 200\n"
     ]
    },
    {
     "name": "stderr",
     "output_type": "stream",
     "text": [
      "[Parallel(n_jobs=-1)]: Done  33 tasks      | elapsed:  6.5min\n"
     ]
    },
    {
     "name": "stdout",
     "output_type": "stream",
     "text": [
      "building tree 37 of 200\n",
      "building tree 38 of 200\n",
      "building tree 39 of 200\n",
      "building tree 40 of 200\n",
      "building tree 41 of 200\n",
      "building tree 42 of 200\n",
      "building tree 43 of 200\n",
      "building tree 44 of 200\n",
      "building tree 45 of 200\n",
      "building tree 46 of 200\n",
      "building tree 47 of 200\n",
      "building tree 48 of 200\n",
      "building tree 49 of 200\n",
      "building tree 50 of 200\n",
      "building tree 51 of 200\n",
      "building tree 52 of 200\n",
      "building tree 53 of 200\n",
      "building tree 54 of 200\n",
      "building tree 55 of 200\n",
      "building tree 56 of 200\n",
      "building tree 57 of 200\n",
      "building tree 58 of 200\n",
      "building tree 59 of 200\n",
      "building tree 60 of 200\n",
      "building tree 61 of 200\n",
      "building tree 62 of 200\n",
      "building tree 63 of 200\n",
      "building tree 64 of 200\n",
      "building tree 65 of 200\n",
      "building tree 66 of 200\n",
      "building tree 67 of 200\n",
      "building tree 68 of 200\n",
      "building tree 69 of 200\n",
      "building tree 70 of 200\n",
      "building tree 71 of 200\n",
      "building tree 72 of 200\n",
      "building tree 73 of 200\n",
      "building tree 74 of 200\n",
      "building tree 75 of 200\n",
      "building tree 76 of 200\n",
      "building tree 77 of 200\n",
      "building tree 78 of 200\n",
      "building tree 79 of 200\n",
      "building tree 80 of 200\n",
      "building tree 81 of 200\n",
      "building tree 82 of 200\n",
      "building tree 83 of 200\n",
      "building tree 84 of 200\n",
      "building tree 85 of 200\n",
      "building tree 86 of 200\n",
      "building tree 87 of 200\n",
      "building tree 88 of 200\n",
      "building tree 89 of 200\n",
      "building tree 90 of 200\n",
      "building tree 91 of 200\n",
      "building tree 92 of 200\n",
      "building tree 93 of 200\n",
      "building tree 94 of 200\n",
      "building tree 95 of 200\n",
      "building tree 96 of 200\n",
      "building tree 97 of 200\n",
      "building tree 98 of 200\n",
      "building tree 99 of 200\n",
      "building tree 100 of 200\n",
      "building tree 101 of 200\n",
      "building tree 102 of 200\n",
      "building tree 103 of 200\n",
      "building tree 104 of 200\n",
      "building tree 105 of 200\n",
      "building tree 106 of 200\n",
      "building tree 107 of 200\n",
      "building tree 108 of 200\n",
      "building tree 109 of 200\n",
      "building tree 110 of 200\n",
      "building tree 111 of 200\n",
      "building tree 112 of 200\n",
      "building tree 113 of 200\n",
      "building tree 114 of 200\n",
      "building tree 115 of 200\n",
      "building tree 116 of 200\n",
      "building tree 117 of 200\n",
      "building tree 118 of 200\n",
      "building tree 119 of 200\n",
      "building tree 120 of 200\n",
      "building tree 121 of 200\n",
      "building tree 122 of 200\n",
      "building tree 123 of 200\n",
      "building tree 124 of 200\n",
      "building tree 125 of 200\n",
      "building tree 126 of 200\n",
      "building tree 127 of 200\n",
      "building tree 128 of 200\n",
      "building tree 129 of 200\n",
      "building tree 130 of 200\n",
      "building tree 131 of 200\n",
      "building tree 132 of 200\n",
      "building tree 133 of 200\n",
      "building tree 134 of 200\n",
      "building tree 135 of 200\n",
      "building tree 136 of 200\n",
      "building tree 137 of 200\n",
      "building tree 138 of 200\n",
      "building tree 139 of 200\n",
      "building tree 140 of 200\n",
      "building tree 141 of 200\n",
      "building tree 142 of 200\n",
      "building tree 143 of 200\n",
      "building tree 144 of 200\n",
      "building tree 145 of 200\n",
      "building tree 146 of 200\n",
      "building tree 147 of 200\n",
      "building tree 148 of 200\n",
      "building tree 149 of 200\n",
      "building tree 150 of 200\n",
      "building tree 151 of 200\n",
      "building tree 152 of 200\n",
      "building tree 153 of 200\n",
      "building tree 154 of 200\n",
      "building tree 155 of 200\n",
      "building tree 156 of 200\n",
      "building tree 157 of 200\n",
      "building tree 158 of 200\n"
     ]
    },
    {
     "name": "stderr",
     "output_type": "stream",
     "text": [
      "[Parallel(n_jobs=-1)]: Done 154 tasks      | elapsed: 25.3min\n"
     ]
    },
    {
     "name": "stdout",
     "output_type": "stream",
     "text": [
      "building tree 159 of 200\n",
      "building tree 160 of 200\n",
      "building tree 161 of 200\n",
      "building tree 162 of 200\n"
     ]
    }
   ],
   "source": [
    "multiclass(\"/Users/benjaminlim/Dropbox (MIT)/Shopee Data Hack 2019/Data/Fashion/fashion_data_info_train_competition_wimage2.csv\")"
   ]
  },
  {
   "cell_type": "code",
   "execution_count": null,
   "metadata": {
    "collapsed": true
   },
   "outputs": [],
   "source": [
    "def multiclass_subset(filename):\n",
    "    # Save name of dataset (fashion, beauty or mobile)\n",
    "    df_name = filename[:filename.index(\"_\")]\n",
    "    df = pd.read_csv(filename)\n",
    "    df['title_image'].fillna(\" \", inplace = True)\n",
    "    df['title'] = df['title'] + \" \" + df['title_image'] # new\n",
    "    df.fillna(-1, inplace = True)\n",
    "    X = df['title']\n",
    "    X = [concat_words(string) for string in X]\n",
    "    X = [re.sub(r'\\b\\w{1,2}\\b', '', string) for string in X] # new\n",
    "    df_filt = df.iloc[:,3:]\n",
    "        \n",
    "    # Train-test split\n",
    "    y = df_filt[\"Sleeves\"]\n",
    "    p = Pipeline([\n",
    "            ('bow',CountVectorizer(token_pattern = r'(?u)\\b[A-Za-z_]+\\b',\n",
    "                                  stop_words = 'english',\n",
    "                                  max_features = 1000)), # new\n",
    "        ('tfidf',TfidfTransformer()),\n",
    "        ('classifier',RandomForestClassifier(n_estimators = 200, verbose = 2, n_jobs=-1))  # new\n",
    "    ])\n",
    "\n",
    "    p.fit(X,y)\n",
    "    \n",
    "    column = \"Sleeves\"\n",
    "\n",
    "    print(column)\n",
    "\n",
    "    # Save prediction models\n",
    "    filename = df_name + \"_\" + column + '.sav'\n",
    "    pickle.dump(p, open(filename, 'wb'))\n",
    "\n",
    "    \n",
    "    return"
   ]
  },
  {
   "cell_type": "code",
   "execution_count": null,
   "metadata": {},
   "outputs": [],
   "source": [
    "multiclass_subset(\"/Users/benjaminlim/Dropbox (MIT)/Shopee Data Hack 2019/Data/Fashion/fashion_data_info_train_competition_wimage2.csv\")"
   ]
  },
  {
   "cell_type": "code",
   "execution_count": null,
   "metadata": {
    "collapsed": true,
    "scrolled": false
   },
   "outputs": [],
   "source": [
    "from fancyimpute import KNN, SoftImpute, IterativeImputer\n",
    "from sklearn.preprocessing import MinMaxScaler\n",
    "import numpy as np\n",
    "\n",
    "def impute_remaining_labels(path, method = \"mode\"):\n",
    "    train_df = pd.read_csv(path)\n",
    "    train_df = train_df.iloc[:,3:]\n",
    "    train_df = train_df.drop('title_image', axis = 1)\n",
    "    train_df_colnames = list(train_df)\n",
    "    \n",
    "    if method == \"mode\":\n",
    "        mode_df = train_df.apply(lambda x: pd.Series(x.value_counts().index[:2]))\n",
    "        for i in range(np.shape(train_df)[1]):\n",
    "            replacement = mode_df.iloc[1:,i]\n",
    "            replacement = replacement.astype(float)\n",
    "            train_df.iloc[:,i] = train_df.iloc[:,i].replace(-1, replacement[1])\n",
    "    \n",
    "    else:\n",
    "        if method == \"IterativeImputer\": \n",
    "            train_df = train_df.replace(-1, np.nan)\n",
    "            print(train_df)\n",
    "\n",
    "            train_df = train_df.apply(lambda x : pd.factorize(x)[0]).as_matrix()\n",
    "            \n",
    "            print(train_df)\n",
    "            train_df = pd.DataFrame(IterativeImputer().fit_transform(train_df))\n",
    "            train_df.columns = train_df_colnames\n",
    "\n",
    "        elif method == \"KNN\": # Causes kernel to die\n",
    "            train_df = train_df.replace(-1, np.nan).as_matrix()\n",
    "            train_df = pd.DataFrame(KNN(k=10).fit_transform(train_df))\n",
    "        \n",
    "        elif method == \"SoftImpute\":\n",
    "            scaler = MinMaxScaler()\n",
    "            for i in range(np.shape(train_df)[1]):\n",
    "                column_mean = mean(train_df.iloc[:,i])\n",
    "                train_df.iloc[:,i] = train_df.iloc[:,i].replace(-1, column_mean)\n",
    "            # need extra code to render entries of column_means null.\n",
    "            train_df_scaled = scaler.fit_transform(train_df) # scale matrix for imputation\n",
    "            train_df_scaled = pd.DataFrame(SoftImpute().fit_transform(train_df_scaled))\n",
    "            train_df = scaler.inverse_transform(train_df_scaled) # unscale imputed matrix\n",
    "        \n",
    "    return train_df"
   ]
  },
  {
   "cell_type": "code",
   "execution_count": null,
   "metadata": {
    "collapsed": true
   },
   "outputs": [],
   "source": []
  },
  {
   "cell_type": "markdown",
   "metadata": {},
   "source": [
    "## Multiclass Prediction: CNN (text)"
   ]
  },
  {
   "cell_type": "code",
   "execution_count": null,
   "metadata": {
    "collapsed": true
   },
   "outputs": [],
   "source": [
    "filename = \"fashion_data_info_train_competition.csv\"\n",
    "df_name = filename[:filename.index(\"_\")]\n",
    "df = pd.read_csv(filename)\n",
    "df.fillna(-1,inplace=True)\n",
    "X = df['title']\n",
    "df_filt = df.iloc[:,3:]\n",
    "y = df_filt[\"Fashion Trend\"]\n",
    "X_train, X_test, y_train, y_test = train_test_split(X, y, test_size = 0.3, random_state = 42)\n",
    "\n",
    "from keras.preprocessing.text import Tokenizer\n",
    "tokenizer = Tokenizer()\n",
    "tokenizer.fit_on_texts(X_train)\n",
    "X_train_tokenized = tokenizer.texts_to_sequences(X_train)\n",
    "X_test_tokenized = tokenizer.texts_to_sequences(X_test)\n",
    "vocab_size = len(tokenizer.word_index) + 1"
   ]
  },
  {
   "cell_type": "code",
   "execution_count": null,
   "metadata": {
    "collapsed": true
   },
   "outputs": [],
   "source": [
    "print(X_train[0:1])\n",
    "print(X_train_tokenized[0:1])"
   ]
  },
  {
   "cell_type": "code",
   "execution_count": null,
   "metadata": {
    "collapsed": true
   },
   "outputs": [],
   "source": [
    "from keras.preprocessing.sequence import pad_sequences\n",
    "maxlen = max([len(sequence) for sequence in X_train_tokenized])\n",
    "X_train_tokenized = pad_sequences(X_train_tokenized, padding = 'post', maxlen = maxlen)\n",
    "X_test_tokenized = pad_sequences(X_test_tokenized, padding = 'post', maxlen = maxlen)\n",
    "print(X_train_tokenized[0,:])"
   ]
  },
  {
   "cell_type": "code",
   "execution_count": null,
   "metadata": {
    "collapsed": true
   },
   "outputs": [],
   "source": [
    "import keras\n",
    "y_train_tokenized = keras.utils.to_categorical(y_train, len(np.unique(y_train)))\n",
    "y_test_tokenized = keras.utils.to_categorical(y_test, len(np.unique(y_test)))"
   ]
  },
  {
   "cell_type": "code",
   "execution_count": null,
   "metadata": {
    "collapsed": true
   },
   "outputs": [],
   "source": [
    "from keras.models import Sequential\n",
    "from keras import layers\n",
    "\n",
    "embedding_dim = 10\n",
    "model = Sequential()\n",
    "model.add(layers.Embedding(input_dim = vocab_size,\n",
    "                          output_dim = embedding_dim,\n",
    "                          input_length = maxlen))\n",
    "model.add(layers.Flatten())\n",
    "model.add(layers.Dense(10, activation = 'relu'))\n",
    "model.add(layers.Dense(1, activation = 'sigmoid'))\n",
    "model.compile(optimizer = 'adam',\n",
    "             loss = 'categorical_crossentropy',\n",
    "             metrics = ['accuracy'])\n",
    "model.summary()"
   ]
  },
  {
   "cell_type": "code",
   "execution_count": null,
   "metadata": {
    "collapsed": true
   },
   "outputs": [],
   "source": [
    "X_train_tokenized"
   ]
  },
  {
   "cell_type": "code",
   "execution_count": null,
   "metadata": {
    "collapsed": true
   },
   "outputs": [],
   "source": [
    "history = model.fit(X_train_tokenized, y_train.values,\n",
    "                    epochs = 20,\n",
    "                    verbose = True,\n",
    "                    validation_data = (X_test_tokenized, y_test.values),\n",
    "                    batch_size = 10)"
   ]
  },
  {
   "cell_type": "code",
   "execution_count": null,
   "metadata": {
    "collapsed": true
   },
   "outputs": [],
   "source": [
    "from keras.utils import to_categorical\n",
    "from keras.preprocessing.text import Tokenizer\n",
    "from keras.preprocessing.sequence import pad_sequences\n",
    "\n",
    "tokenizer = Tokenizer(num_words = glove.word_vectors.shape[0])\n",
    "tokenizer.fit_on_texts(X_train)\n",
    "sequences = tokenizer.texts_to_sequences(X_train)\n",
    "word_index = tokenizer.word_index\n",
    "print('Found %s unique tokens.' % len(word_index))\n",
    "MAX_SEQUENCE_LENGTH = max([len(sequence) for sequence in sequences])\n",
    "data = pad_sequences(sequences, maxlen=MAX_SEQUENCE_LENGTH)\n",
    "\n",
    "labels = to_categorical(np.asarray(y_train))\n",
    "print('Shape of data tensor:', data.shape)\n",
    "print('Shape of label tensor:', labels.shape)\n"
   ]
  },
  {
   "cell_type": "code",
   "execution_count": null,
   "metadata": {
    "collapsed": true
   },
   "outputs": [],
   "source": [
    "from keras.layers import Embedding\n",
    "from keras.layers import Input\n",
    "from keras.layers.convolutional import Conv1D\n",
    "from keras.layers import MaxPooling1D\n",
    "embedding_layer = Embedding(len(word_index) + 1,\n",
    "                            np.shape(glove.word_vectors)[1],\n",
    "                            input_length=MAX_SEQUENCE_LENGTH,\n",
    "                            trainable=True)\n",
    "\n",
    "sequence_input = Input(shape=(MAX_SEQUENCE_LENGTH,), dtype='int32')\n",
    "embedded_sequences = embedding_layer(sequence_input)\n",
    "x = Conv1D(128, 5, activation='relu')(embedded_sequences)\n",
    "x = MaxPooling1D(5)(x)\n",
    "x = Conv1D(128, 5, activation='relu')(x)\n",
    "x = MaxPooling1D(5)(x)\n",
    "x = Conv1D(128, 5, activation='relu')(x)\n",
    "x = MaxPooling1D(35)(x)  # global max pooling\n",
    "x = Flatten()(x)\n",
    "x = Dense(128, activation='relu')(x)\n",
    "preds = Dense(len(labels_index), activation='softmax')(x)\n",
    "\n",
    "model = Model(sequence_input, preds)\n",
    "model.compile(loss='categorical_crossentropy',\n",
    "              optimizer='rmsprop',\n",
    "              metrics=['acc'])"
   ]
  },
  {
   "cell_type": "code",
   "execution_count": null,
   "metadata": {
    "collapsed": true
   },
   "outputs": [],
   "source": [
    "glove.word_vectors.shape"
   ]
  },
  {
   "cell_type": "code",
   "execution_count": null,
   "metadata": {
    "collapsed": true
   },
   "outputs": [],
   "source": [
    "Embedding"
   ]
  }
 ],
 "metadata": {
  "kernelspec": {
   "display_name": "Python 3",
   "language": "python",
   "name": "python3"
  },
  "language_info": {
   "codemirror_mode": {
    "name": "ipython",
    "version": 3
   },
   "file_extension": ".py",
   "mimetype": "text/x-python",
   "name": "python",
   "nbconvert_exporter": "python",
   "pygments_lexer": "ipython3",
   "version": "3.6.6"
  }
 },
 "nbformat": 4,
 "nbformat_minor": 2
}
