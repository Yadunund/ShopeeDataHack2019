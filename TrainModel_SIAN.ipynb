{
 "cells": [
  {
   "cell_type": "code",
   "execution_count": null,
   "metadata": {},
   "outputs": [],
   "source": [
    "import numpy as np\n",
    "import pandas as pd\n",
    "import matplotlib.pyplot as plt\n",
    "import seaborn as sns\n",
    "import nltk\n",
    "from nltk.corpus import stopwords\n",
    "import string\n",
    "%matplotlib inline\n",
    "\n",
    "\n",
    "from sklearn.model_selection import train_test_split\n",
    "from sklearn.pipeline import Pipeline\n",
    "from sklearn.feature_extraction.text import CountVectorizer\n",
    "from sklearn.feature_extraction.text import TfidfTransformer\n",
    "from sklearn.naive_bayes import MultinomialNB\n",
    "from sklearn.ensemble import RandomForestClassifier\n",
    "import pickle\n",
    "from sklearn.metrics import confusion_matrix, classification_report\n",
    "from xgboost import XGBClassifier\n",
    "from sklearn.externals import joblib\n",
    "\n"
   ]
  },
  {
   "cell_type": "code",
   "execution_count": null,
   "metadata": {},
   "outputs": [],
   "source": [
    "def text_process(mess):\n",
    "    \"\"\"\n",
    "    1. Remove punc\n",
    "    2. Remove stop words \n",
    "    3. Return list of clean text words    \n",
    "    \"\"\"\n",
    "    nopunc= [char for char in mess if char not in string.punctuation]\n",
    "    nopunc=''.join(nopunc)\n",
    "    return [word for word in nopunc.split() if word.lower() not in stopwords.words('english') and len(word)>2]\n",
    "    "
   ]
  },
  {
   "cell_type": "code",
   "execution_count": null,
   "metadata": {},
   "outputs": [],
   "source": [
    "def traindata(dataset,train_all=True,attribute='Benefits',n_estimators=10,use_imagetext=False,save_model=True):\n",
    "    paths_train=['fashion_data_info_train_competition.csv','beauty_data_info_train_competition.csv','mobile_data_info_train_competition.csv']\n",
    "    paths_val=['fashion_data_info_val_competition.csv','beauty_data_info_val_competition.csv','mobile_data_info_val_competition.csv']\n",
    "    paths_json=['fashion_profile_train.json','beauty_profile_train.json','mobile_profile_train.json']\n",
    "    path_train=''\n",
    "    path_val=''\n",
    "    path_json=''\n",
    "\n",
    "    if(dataset=='fashion'):\n",
    "        filename=paths_train[0]\n",
    "    elif(dataset=='beauty'):\n",
    "        filename=paths_train[1]\n",
    "    else:\n",
    "        filename=paths_train[2]\n",
    "\n",
    "\n",
    "    print('Path_train:'+filename)\n",
    "    \n",
    "    df= pd.read_csv(filename)\n",
    "    df.fillna(-1,inplace=True)\n",
    "    \n",
    "    if(use_imagetext):\n",
    "        try:\n",
    "            tmp=filename.split('.')\n",
    "            filename_t=tmp[0]+'_imtext.csv'\n",
    "            tdf=pd.read_csv(filename_t)\n",
    "            df['title']=df['title']+' ' +tdf['title_image']\n",
    "        except e:\n",
    "            print('Error in loading imtext file. Skipping...')\n",
    "    X=df['title']\n",
    "    df_filt=df.iloc[:,3:]\n",
    "    accuracy=[]\n",
    "    if(train_all):\n",
    "        for column in df_filt:\n",
    "            y=df_filt[column]\n",
    "            X_train, X_test, y_train, y_test = train_test_split(X, y, test_size=0.3, random_state=42)\n",
    "            p=Pipeline([\n",
    "                    ('bow',CountVectorizer(analyzer=text_process)),\n",
    "                ('tfidf',TfidfTransformer()),\n",
    "                ('classifier',RandomForestClassifier(n_estimators=n_estimators,verbose=2,n_jobs=-1))  \n",
    "                ])\n",
    "            print(\"Training attribute \"+ str(column)+ \" with \"+str(n_estimators)+ \" estimators\")\n",
    "\n",
    "            p.fit(X_train,y_train)\n",
    "            pred=p.predict(X_test)\n",
    "            conf_mat = confusion_matrix(y_test,pred)\n",
    "            a=np.sum(np.diagonal(conf_mat))/np.sum(conf_mat)\n",
    "            print(column)\n",
    "            print(\"Accuracy: \", a)\n",
    "            accuracy.append(a)\n",
    "\n",
    "            # save the model to disk\n",
    "            modelname =dataset+'_'+'rf_'+'n_'+str(n_estimators)+column + '.sav'\n",
    "            print(\"Saving mode to file \"+ modelname)\n",
    "            if(save_model):\n",
    "                #pickle.dump(p, open(modelname, 'wb'))\n",
    "                joblib.dump(p,modelname)\n",
    "    else:\n",
    "        column=attribute\n",
    "        y=df_filt[column]\n",
    "        X_train, X_test, y_train, y_test = train_test_split(X, y, test_size=0.3, random_state=42)\n",
    "        p=Pipeline([\n",
    "                ('bow',CountVectorizer(analyzer=text_process)),\n",
    "            ('tfidf',TfidfTransformer()),\n",
    "            ('classifier',RandomForestClassifier(n_estimators=n_estimators,verbose=2,n_jobs=-1))  \n",
    "            ])\n",
    "        #XGBClassifier(n_estimators=n_estimators,verbosity =2)\n",
    "        print(\"Training attribute \"+ str(column)+ \" with \"+str(n_estimators)+ \" estimators\")\n",
    "\n",
    "        p.fit(X_train,y_train)\n",
    "        pred=p.predict(X_test)\n",
    "        conf_mat = confusion_matrix(y_test,pred)\n",
    "        a=np.sum(np.diagonal(conf_mat))/np.sum(conf_mat)\n",
    "        print(column)\n",
    "        print(\"Accuracy: \", a)\n",
    "        accuracy.append(a)\n",
    "\n",
    "        # save the model to disk\n",
    "        modelname =dataset+'_'+'rf_'+'n_'+str(n_estimators)+column + '.sav'\n",
    "        print(\"Saving mode to file \"+ modelname)\n",
    "        if(save_model):\n",
    "            #pickle.dump(p, open(modelname, 'wb'))\n",
    "            joblib.dump(p,modelname)\n",
    "\n",
    "    \n",
    "    return([df_filt.columns,accuracy])"
   ]
  },
  {
   "cell_type": "code",
   "execution_count": null,
   "metadata": {},
   "outputs": [],
   "source": [
    "traindata('beauty',train_all=True,attribute='Brand',n_estimators=200,use_imagetext=False,save_model=True)\n"
   ]
  },
  {
   "cell_type": "code",
   "execution_count": null,
   "metadata": {},
   "outputs": [],
   "source": [
    "traindata('mobile',train_all=True,attribute='Brand',n_estimators=200,use_imagetext=False,save_model=True)\n"
   ]
  },
  {
   "cell_type": "code",
   "execution_count": null,
   "metadata": {},
   "outputs": [],
   "source": [
    "traindata('fashion',train_all=ruelse,attribute='Phone Model',n_estimators=200,use_imagetext=False,save_model=True)\n"
   ]
  },
  {
   "cell_type": "code",
   "execution_count": null,
   "metadata": {},
   "outputs": [],
   "source": []
  },
  {
   "cell_type": "code",
   "execution_count": null,
   "metadata": {},
   "outputs": [],
   "source": [
    "#To determine optimal number of trees in forest classifier\n",
    "n_max=600\n",
    "step=100\n",
    "params=range(100, n_max+step,step)\n",
    "accuracies=[]\n",
    "for i in params :\n",
    "    accuracies.append(traindata(traindata('beauty',train_all=True,attribute='Brand',n_estimators=i,use_imagetext=False,save_model=True))[1])"
   ]
  }
 ],
 "metadata": {
  "kernelspec": {
   "display_name": "Python 3",
   "language": "python",
   "name": "python3"
  },
  "language_info": {
   "codemirror_mode": {
    "name": "ipython",
    "version": 3
   },
   "file_extension": ".py",
   "mimetype": "text/x-python",
   "name": "python",
   "nbconvert_exporter": "python",
   "pygments_lexer": "ipython3",
   "version": "3.6.6"
  }
 },
 "nbformat": 4,
 "nbformat_minor": 2
}
